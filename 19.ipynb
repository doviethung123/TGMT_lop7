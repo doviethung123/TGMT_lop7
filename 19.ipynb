{
 "cells": [
  {
   "cell_type": "code",
   "execution_count": 3,
   "id": "8cf75eb9-7407-4471-a743-5a1c6386fd5c",
   "metadata": {},
   "outputs": [
    {
     "name": "stdout",
     "output_type": "stream",
     "text": [
      "Defaulting to user installation because normal site-packages is not writeable\n",
      "Requirement already satisfied: opencv-python in c:\\users\\admin\\appdata\\roaming\\python\\python312\\site-packages (4.10.0.84)\n",
      "Requirement already satisfied: numpy>=1.21.2 in d:\\thigiac\\lib\\site-packages (from opencv-python) (1.26.4)\n",
      "Note: you may need to restart the kernel to use updated packages.\n"
     ]
    }
   ],
   "source": [
    "pip install opencv-python"
   ]
  },
  {
   "cell_type": "code",
   "execution_count": 4,
   "id": "222bf2cc-8b4f-45f5-b6b7-7e5a051da520",
   "metadata": {},
   "outputs": [],
   "source": [
    "def display(title, img):\n",
    "    cv2.imshow(title, img)\n",
    "    # Chờ một khoảng thời gian\n",
    "    cv2.waitKey(0)\n",
    "    # Đóng window\n",
    "    cv2.destroyWindow(title)"
   ]
  },
  {
   "cell_type": "code",
   "execution_count": 5,
   "id": "35174981-c743-4cf0-b7f2-d2ebbfbf7b74",
   "metadata": {},
   "outputs": [],
   "source": [
    "import cv2"
   ]
  },
  {
   "cell_type": "code",
   "execution_count": 6,
   "id": "22267a0b-4d70-4268-b976-400c083c1757",
   "metadata": {},
   "outputs": [
    {
     "name": "stdout",
     "output_type": "stream",
     "text": [
      "[[[255 255 240]\n",
      "  [255 255 241]\n",
      "  [253 255 243]\n",
      "  ...\n",
      "  [251 255 244]\n",
      "  [251 255 244]\n",
      "  [251 255 244]]\n",
      "\n",
      " [[255 255 241]\n",
      "  [255 255 241]\n",
      "  [253 255 243]\n",
      "  ...\n",
      "  [251 255 244]\n",
      "  [251 255 244]\n",
      "  [251 255 244]]\n",
      "\n",
      " [[253 255 243]\n",
      "  [253 255 243]\n",
      "  [255 255 241]\n",
      "  ...\n",
      "  [251 255 244]\n",
      "  [251 255 244]\n",
      "  [251 255 244]]\n",
      "\n",
      " ...\n",
      "\n",
      " [[204 204 144]\n",
      "  [204 204 144]\n",
      "  [204 204 144]\n",
      "  ...\n",
      "  [204 204 144]\n",
      "  [204 204 144]\n",
      "  [204 204 144]]\n",
      "\n",
      " [[204 204 144]\n",
      "  [204 204 144]\n",
      "  [204 204 144]\n",
      "  ...\n",
      "  [204 204 144]\n",
      "  [204 204 144]\n",
      "  [204 204 144]]\n",
      "\n",
      " [[204 204 144]\n",
      "  [204 204 144]\n",
      "  [204 204 144]\n",
      "  ...\n",
      "  [204 204 144]\n",
      "  [204 204 144]\n",
      "  [204 204 144]]]\n"
     ]
    }
   ],
   "source": [
    "# Đọc một ảnh (nhan TAB de nhin autocomplete)\n",
    "path= r'C:\\Users\\Admin\\Documents\\img\\08.jpg'\n",
    "img = cv2.imread(path)\n",
    "# In thông tin của ảnh\n",
    "print(img)"
   ]
  },
  {
   "cell_type": "code",
   "execution_count": 11,
   "id": "b7a426ad-22b4-467d-8220-35360aab7c95",
   "metadata": {},
   "outputs": [],
   "source": [
    "# Hiển thị ảnh\n",
    "cv2.imshow('Window', img)\n",
    "# Chờ một khoảng thời gian\n",
    "cv2.waitKey(10000)\n",
    "# Đóng window\n",
    "cv2.destroyWindow('Window')"
   ]
  },
  {
   "cell_type": "code",
   "execution_count": 12,
   "id": "13bb506f-b6ce-4a02-8562-c99949635e4b",
   "metadata": {},
   "outputs": [],
   "source": [
    "# Tách màu\n",
    "b, g, r = cv2.split(img)\n",
    "cv2.imshow('Window', img)\n",
    "cv2.imshow('Red', r)\n",
    "cv2.imshow('Green', g)\n",
    "cv2.imshow('Blue', b)\n",
    "\n",
    "# Chờ một khoảng thời gian\n",
    "cv2.waitKey(0)\n",
    "# Đóng window\n",
    "cv2.destroyAllWindows()"
   ]
  },
  {
   "cell_type": "code",
   "execution_count": 13,
   "id": "a6541690-982a-4602-ae7c-e677faa2a8bf",
   "metadata": {},
   "outputs": [],
   "source": [
    "gray_img = cv2.cvtColor(img, cv2.COLOR_BGR2GRAY)\n",
    "img_2 = cv2.cvtColor(img, cv2.COLOR_BGR2RGB)\n",
    "cv2.imshow('Window', img)\n",
    "cv2.imshow('gray_img', gray_img)\n",
    "cv2.imshow('img_2', img_2)\n",
    "# Chờ một khoảng thời gian\n",
    "cv2.waitKey(0)\n",
    "# Đóng window\n",
    "cv2.destroyAllWindows()"
   ]
  },
  {
   "cell_type": "code",
   "execution_count": 14,
   "id": "dad1d01a-895a-4db8-9b72-c27c96c21c58",
   "metadata": {},
   "outputs": [],
   "source": [
    "# Thay đổi thông số của điểm ảnh\n",
    "height, width, z = img.shape\n",
    "quater_h = height/2\n",
    "quater_w = width/2\n",
    "\n",
    "# geen color\n",
    "green_color = (0,255,0)\n",
    "\n",
    "# copy ảnh\n",
    "img2 = img.copy()\n",
    "\n",
    "# thay đổi màu của góc 1/4 bên trái trên\n",
    "\n",
    "for y in range(int(quater_h)):\n",
    "    for x in range(int(quater_w)):\n",
    "        img2[y, x] = green_color\n",
    "# Hiển thị\n",
    "display('Window', img)\n",
    "display('Window-2', img2)"
   ]
  },
  {
   "cell_type": "code",
   "execution_count": null,
   "id": "5da182a0-2606-4556-af92-12a289a74c8b",
   "metadata": {},
   "outputs": [],
   "source": []
  }
 ],
 "metadata": {
  "kernelspec": {
   "display_name": "Python 3 (ipykernel)",
   "language": "python",
   "name": "python3"
  },
  "language_info": {
   "codemirror_mode": {
    "name": "ipython",
    "version": 3
   },
   "file_extension": ".py",
   "mimetype": "text/x-python",
   "name": "python",
   "nbconvert_exporter": "python",
   "pygments_lexer": "ipython3",
   "version": "3.12.4"
  }
 },
 "nbformat": 4,
 "nbformat_minor": 5
}
