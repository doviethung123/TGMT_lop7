{
 "cells": [
  {
   "cell_type": "code",
   "execution_count": 1,
   "id": "808d818c-1670-4370-a005-f92b94f928eb",
   "metadata": {},
   "outputs": [
    {
     "name": "stdout",
     "output_type": "stream",
     "text": [
      "[(1187.8870967741934, 905.6935483870967), (901.4354838709678, 731.5), (1257.5645161290322, 890.2096774193549), (1323.3709677419354, 851.5), (1354.3387096774193, 828.2741935483871)]\n"
     ]
    }
   ],
   "source": [
    "# Import thư viện\n",
    "from PIL import Image\n",
    "import matplotlib.pyplot as plt\n",
    "\n",
    "# Đường dẫn ảnh\n",
    "my_path =  r'C:\\Users\\Admin\\Documents\\img\\02.jpg'\n",
    "\n",
    "# Đọc ảnh\n",
    "im = Image.open(my_path)\n",
    "\n",
    "# Chuyển đổi backend\n",
    "plt.switch_backend('tkagg')\n",
    "\n",
    "# Hiển thị ảnh\n",
    "plt.imshow(im)\n",
    "plt.title('Click on the image to select points')\n",
    "\n",
    "# Sử dụng hàm ginput để chọn điểm trên ảnh\n",
    "points = plt.ginput(5)\n",
    "\n",
    "print(points)\n",
    "\n",
    "# Hiển thị\n",
    "plt.show()"
   ]
  },
  {
   "cell_type": "code",
   "execution_count": 6,
   "id": "858eaa94-7bad-43ba-a9f6-8768ebd741c9",
   "metadata": {},
   "outputs": [],
   "source": [
    "# Vẽ lại các điểm đã chọn bằng dấu * màu đỏ\n",
    "plt.close()\n",
    "\n",
    "# Vẽ lại\n",
    "plt.imshow(im)\n",
    "for point in points:\n",
    "    x, y = point\n",
    "    plt.plot(x,y, 'r*')\n",
    "\n",
    "plt.show()"
   ]
  },
  {
   "cell_type": "code",
   "execution_count": null,
   "id": "c8ca1cea-386b-455a-b900-964b9e6b4756",
   "metadata": {},
   "outputs": [],
   "source": []
  }
 ],
 "metadata": {
  "kernelspec": {
   "display_name": "Python 3 (ipykernel)",
   "language": "python",
   "name": "python3"
  },
  "language_info": {
   "codemirror_mode": {
    "name": "ipython",
    "version": 3
   },
   "file_extension": ".py",
   "mimetype": "text/x-python",
   "name": "python",
   "nbconvert_exporter": "python",
   "pygments_lexer": "ipython3",
   "version": "3.12.4"
  }
 },
 "nbformat": 4,
 "nbformat_minor": 5
}
